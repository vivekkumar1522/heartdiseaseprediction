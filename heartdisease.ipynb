{
 "cells": [
  {
   "cell_type": "code",
   "execution_count": null,
   "id": "fcc01815",
   "metadata": {},
   "outputs": [],
   "source": [
    "import numpy as np  \n",
    "import pandas as pd  \n",
    "from sklearn.model_selection import train_test_split\n",
    "from sklearn.linear_model import LogisticRegression\n",
    "import seaborn as sn \n",
    "from sklearn.metrics import accuracy_score\n"
   ]
  },
  {
   "cell_type": "code",
   "execution_count": null,
   "id": "cc6e5697",
   "metadata": {},
   "outputs": [],
   "source": [
    "heart_data = pd.read_csv('heart_disease_data.csv')\n",
    "heart_data.head()"
   ]
  },
  {
   "cell_type": "code",
   "execution_count": null,
   "id": "de7fb08d",
   "metadata": {},
   "outputs": [],
   "source": [
    "heart_data.info()"
   ]
  },
  {
   "cell_type": "code",
   "execution_count": null,
   "id": "6e0ffb56",
   "metadata": {},
   "outputs": [],
   "source": [
    "heart_data.isnull().sum()"
   ]
  },
  {
   "cell_type": "code",
   "execution_count": null,
   "id": "3c84ceca",
   "metadata": {},
   "outputs": [],
   "source": [
    "heart_data.describe()"
   ]
  },
  {
   "cell_type": "code",
   "execution_count": null,
   "id": "72653d9c",
   "metadata": {},
   "outputs": [],
   "source": [
    "heart_data['target'].value_counts()"
   ]
  },
  {
   "cell_type": "markdown",
   "id": "5a360d30",
   "metadata": {},
   "source": [
    "training the data "
   ]
  },
  {
   "cell_type": "code",
   "execution_count": null,
   "id": "e19e05d7",
   "metadata": {},
   "outputs": [],
   "source": [
    "X = heart_data.drop(columns='target', axis= 1)\n",
    "Y =heart_data['target']\n",
    "print(Y)"
   ]
  },
  {
   "cell_type": "code",
   "execution_count": null,
   "id": "d7a3f2c2",
   "metadata": {},
   "outputs": [],
   "source": [
    "X_train , X_test , Y_train , Y_test  = train_test_split(X,Y,test_size=0.3,random_state=3)\n",
    "print(X_train.shape , Y_train.shape)"
   ]
  },
  {
   "cell_type": "code",
   "execution_count": null,
   "id": "255c83c0",
   "metadata": {},
   "outputs": [],
   "source": [
    "logistic_model = LogisticRegression(max_iter=1000)\n",
    "logistic_model.fit(X_train,Y_train)"
   ]
  },
  {
   "cell_type": "code",
   "execution_count": null,
   "id": "e20e5ba2",
   "metadata": {},
   "outputs": [],
   "source": [
    "X_train_prediction = logistic_model.predict(X_train)\n",
    "training_data_accuracy = accuracy_score(X_train_prediction,Y_train)\n",
    "print(\"accuracy score on training data \" , training_data_accuracy)\n"
   ]
  },
  {
   "cell_type": "markdown",
   "id": "01df574d",
   "metadata": {},
   "source": [
    "Test data "
   ]
  },
  {
   "cell_type": "code",
   "execution_count": null,
   "id": "b6e176d9",
   "metadata": {},
   "outputs": [],
   "source": [
    "logistic_model2 = LogisticRegression(max_iter=1000)\n",
    "logistic_model2.fit(X_test,Y_test)"
   ]
  },
  {
   "cell_type": "code",
   "execution_count": null,
   "id": "b941cd2a",
   "metadata": {},
   "outputs": [],
   "source": [
    "X_test_prediction = logistic_model2.predict(X_test)\n",
    "test_data_accuracy = accuracy_score(X_test_prediction,Y_test )\n",
    "print(\"accuracy score on test data \" , test_data_accuracy)\n"
   ]
  },
  {
   "cell_type": "markdown",
   "id": "c0aaa40e",
   "metadata": {},
   "source": [
    "predictive system "
   ]
  },
  {
   "cell_type": "code",
   "execution_count": null,
   "id": "f125625b",
   "metadata": {},
   "outputs": [],
   "source": [
    "input_data = (52,1,1,120,325,0,1,172,0,0.2,2,0,2)\n",
    "input_data2 =(54,1,0,124,266,0,0,109,1,2.2,1,1,3)\n",
    "#change the input data as numpy array \n",
    "input_data_numpy = np.asarray(input_data2)\n",
    "\n",
    "# reshape the numoy array \n",
    "input_data_reshaped = input_data_numpy.reshape(1,-1)\n",
    "prediction = logistic_model.predict(input_data_reshaped)\n",
    "print(prediction)"
   ]
  },
  {
   "cell_type": "code",
   "execution_count": null,
   "id": "a4a8b08a",
   "metadata": {},
   "outputs": [],
   "source": []
  }
 ],
 "metadata": {
  "kernelspec": {
   "display_name": "Python 3",
   "language": "python",
   "name": "python3"
  },
  "language_info": {
   "codemirror_mode": {
    "name": "ipython",
    "version": 3
   },
   "file_extension": ".py",
   "mimetype": "text/x-python",
   "name": "python",
   "nbconvert_exporter": "python",
   "pygments_lexer": "ipython3",
   "version": "3.9.13"
  }
 },
 "nbformat": 4,
 "nbformat_minor": 5
}
